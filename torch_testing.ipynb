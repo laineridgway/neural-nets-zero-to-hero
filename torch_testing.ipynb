{
 "cells": [
  {
   "cell_type": "code",
   "execution_count": 40,
   "id": "59d5f55e-6cd6-40b9-b27b-2cd140d19537",
   "metadata": {},
   "outputs": [],
   "source": [
    "import torch"
   ]
  },
  {
   "cell_type": "code",
   "execution_count": 68,
   "id": "8ad924f8-e0ec-45f1-abf4-c793c77982d9",
   "metadata": {},
   "outputs": [
    {
     "data": {
      "text/plain": [
       "torch.Size([32, 4, 20])"
      ]
     },
     "execution_count": 68,
     "metadata": {},
     "output_type": "execute_result"
    }
   ],
   "source": [
    "n = 2 # chunked together (2 is pairs)\n",
    "B, T, C = (32, 8, 10) # B is batch, T is time/sequence, C is channel\n",
    "e = torch.arange(B*T*C)\n",
    "e = e.view((B, T, C))\n",
    "e = e.view(B, T//n, C*n)\n",
    "if e.shape[1] == 1:\n",
    "    e = e.squeeze(1)\n",
    "e.shape"
   ]
  },
  {
   "cell_type": "code",
   "execution_count": null,
   "id": "d23e0257-a02b-47bd-aa18-b661da670867",
   "metadata": {},
   "outputs": [],
   "source": []
  }
 ],
 "metadata": {
  "kernelspec": {
   "display_name": "Python 3 (ipykernel)",
   "language": "python",
   "name": "python3"
  },
  "language_info": {
   "codemirror_mode": {
    "name": "ipython",
    "version": 3
   },
   "file_extension": ".py",
   "mimetype": "text/x-python",
   "name": "python",
   "nbconvert_exporter": "python",
   "pygments_lexer": "ipython3",
   "version": "3.11.13"
  }
 },
 "nbformat": 4,
 "nbformat_minor": 5
}
